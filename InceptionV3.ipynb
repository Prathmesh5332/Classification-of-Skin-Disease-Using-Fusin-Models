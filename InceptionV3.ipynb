{
  "nbformat": 4,
  "nbformat_minor": 0,
  "metadata": {
    "colab": {
      "provenance": [],
      "gpuType": "T4"
    },
    "kernelspec": {
      "name": "python3",
      "display_name": "Python 3"
    },
    "language_info": {
      "name": "python"
    },
    "accelerator": "GPU"
  },
  "cells": [
    {
      "cell_type": "code",
      "execution_count": 2,
      "metadata": {
        "id": "Hm6BuazOG1QJ"
      },
      "outputs": [],
      "source": [
        "import tensorflow as tf\n",
        "from tensorflow.keras.applications import DenseNet201, ResNet152V2, VGG16\n",
        "from tensorflow.keras.layers import GlobalAveragePooling2D, Dense, Dropout, Concatenate, Input\n",
        "from tensorflow.keras.models import Model\n",
        "from tensorflow.keras.optimizers import Adam\n",
        "from tensorflow.keras.preprocessing.image import ImageDataGenerator\n",
        "from tensorflow.keras.callbacks import ReduceLROnPlateau, EarlyStopping\n",
        "import os\n",
        "import zipfile"
      ]
    },
    {
      "cell_type": "code",
      "source": [
        "# Ensure the dataset is extracted from Google Drive\n",
        "from google.colab import drive\n",
        "drive.mount('/content/drive')"
      ],
      "metadata": {
        "colab": {
          "base_uri": "https://localhost:8080/"
        },
        "id": "ZuUGJQCcJyUm",
        "outputId": "086497e2-4101-4496-a4dd-573bcc04214c"
      },
      "execution_count": 3,
      "outputs": [
        {
          "output_type": "stream",
          "name": "stdout",
          "text": [
            "Mounted at /content/drive\n"
          ]
        }
      ]
    },
    {
      "cell_type": "code",
      "source": [
        "# Define paths to dataset\n",
        "zip_path = '/content/drive/MyDrive/Dataset/SkinDisease.zip'\n",
        "extract_path = '/content/skin_disease_dataset'\n",
        "\n",
        "# Extract the dataset\n",
        "with zipfile.ZipFile(zip_path, 'r') as zip_ref:\n",
        "    zip_ref.extractall(extract_path)\n",
        "\n",
        "print('Dataset extracted successfully.')"
      ],
      "metadata": {
        "colab": {
          "base_uri": "https://localhost:8080/"
        },
        "id": "fMXK2so3KFWV",
        "outputId": "8578cca8-31d8-4108-d00f-ef5706a0f882"
      },
      "execution_count": 4,
      "outputs": [
        {
          "output_type": "stream",
          "name": "stdout",
          "text": [
            "Dataset extracted successfully.\n"
          ]
        }
      ]
    },
    {
      "cell_type": "code",
      "source": [
        "data_dir_train = os.path.join(extract_path, 'SkinDisease/train')\n",
        "data_dir_test = os.path.join(extract_path, 'SkinDisease/test')"
      ],
      "metadata": {
        "id": "uFbDIXvNKdEO"
      },
      "execution_count": 5,
      "outputs": []
    },
    {
      "cell_type": "code",
      "source": [
        "# Data Preprocessing and Augmentation\n",
        "train_datagen = ImageDataGenerator(\n",
        "    rescale=1./255,\n",
        "    zoom_range=0.2,\n",
        "    horizontal_flip=True,\n",
        "    validation_split=0.2  # Split for training and validation\n",
        ")\n"
      ],
      "metadata": {
        "id": "1joVvU5zK9pr"
      },
      "execution_count": 6,
      "outputs": []
    },
    {
      "cell_type": "code",
      "source": [
        "train_generator = train_datagen.flow_from_directory(\n",
        "    data_dir_train,\n",
        "    target_size=(256, 256),\n",
        "    batch_size=32,\n",
        "    class_mode='categorical',\n",
        "    subset='training'\n",
        ")\n"
      ],
      "metadata": {
        "colab": {
          "base_uri": "https://localhost:8080/"
        },
        "id": "K2HBf9pQK_ed",
        "outputId": "911b218c-6209-4502-9ec2-0800920a44c8"
      },
      "execution_count": 7,
      "outputs": [
        {
          "output_type": "stream",
          "name": "stdout",
          "text": [
            "Found 11128 images belonging to 22 classes.\n"
          ]
        }
      ]
    },
    {
      "cell_type": "code",
      "source": [
        "validation_generator = train_datagen.flow_from_directory(\n",
        "    data_dir_train,\n",
        "    target_size=(256, 256),\n",
        "    batch_size=32,\n",
        "    class_mode='categorical',\n",
        "    subset='validation'\n",
        ")"
      ],
      "metadata": {
        "colab": {
          "base_uri": "https://localhost:8080/"
        },
        "id": "ff3jAtu-LC37",
        "outputId": "739bda53-2799-48c5-e7e8-2458aba31387"
      },
      "execution_count": 8,
      "outputs": [
        {
          "output_type": "stream",
          "name": "stdout",
          "text": [
            "Found 2770 images belonging to 22 classes.\n"
          ]
        }
      ]
    },
    {
      "cell_type": "code",
      "source": [
        "# Fusion Model Development\n",
        "input_shape = (256, 256, 3)\n",
        "input_tensor = Input(shape=input_shape, name=\"input_image\")"
      ],
      "metadata": {
        "id": "-JVunjHyLIG-"
      },
      "execution_count": 9,
      "outputs": []
    },
    {
      "cell_type": "code",
      "source": [
        "from tensorflow.keras.applications import InceptionV3\n",
        "from tensorflow.keras.layers import GlobalAveragePooling2D, Dense, Input\n",
        "from tensorflow.keras.models import Model\n",
        "from tensorflow.keras.optimizers import Adam\n",
        "\n",
        "# InceptionV3 Model\n",
        "input_tensor_inception = Input(shape=input_shape, name=\"input_inception\")\n",
        "base_model_inception = InceptionV3(weights='imagenet', include_top=False, input_tensor=input_tensor_inception)\n",
        "base_model_inception.trainable = False  # Freeze layers\n",
        "x_inception = base_model_inception.output\n",
        "x_inception = GlobalAveragePooling2D()(x_inception)\n",
        "x_inception = Dense(512, activation='relu')(x_inception)\n",
        "output_inception = Dense(train_generator.num_classes, activation='softmax')(x_inception)\n",
        "\n",
        "# Create the InceptionV3 model\n",
        "model_inception = Model(inputs=input_tensor_inception, outputs=output_inception)\n",
        "\n",
        "# Compile the model\n",
        "model_inception.compile(optimizer=Adam(),\n",
        "                        loss='categorical_crossentropy',\n",
        "                        metrics=['accuracy'])\n",
        "reduce_lr = ReduceLROnPlateau(monitor='val_loss', factor=0.75, patience=5, min_lr=1e-5, verbose=1)\n",
        "# Train the InceptionV3 model\n",
        "history_inception = model_inception.fit(\n",
        "    train_generator,\n",
        "    validation_data=validation_generator,\n",
        "    epochs=30,\n",
        "    callbacks=[reduce_lr]\n",
        ")\n",
        "\n",
        "# Save the InceptionV3 model\n",
        "model_inception.save('/content/drive/MyDrive/inception_model.h5')\n"
      ],
      "metadata": {
        "colab": {
          "base_uri": "https://localhost:8080/"
        },
        "id": "VGIFbQIFLKTa",
        "outputId": "1d3f52d5-4538-4833-e2f5-fb92d888d8ff"
      },
      "execution_count": 10,
      "outputs": [
        {
          "output_type": "stream",
          "name": "stdout",
          "text": [
            "Downloading data from https://storage.googleapis.com/tensorflow/keras-applications/inception_v3/inception_v3_weights_tf_dim_ordering_tf_kernels_notop.h5\n",
            "\u001b[1m87910968/87910968\u001b[0m \u001b[32m━━━━━━━━━━━━━━━━━━━━\u001b[0m\u001b[37m\u001b[0m \u001b[1m0s\u001b[0m 0us/step\n",
            "Epoch 1/30\n"
          ]
        },
        {
          "output_type": "stream",
          "name": "stderr",
          "text": [
            "/usr/local/lib/python3.10/dist-packages/keras/src/trainers/data_adapters/py_dataset_adapter.py:122: UserWarning: Your `PyDataset` class should call `super().__init__(**kwargs)` in its constructor. `**kwargs` can include `workers`, `use_multiprocessing`, `max_queue_size`. Do not pass these arguments to `fit()`, as they will be ignored.\n",
            "  self._warn_if_super_not_called()\n"
          ]
        },
        {
          "output_type": "stream",
          "name": "stdout",
          "text": [
            "\u001b[1m348/348\u001b[0m \u001b[32m━━━━━━━━━━━━━━━━━━━━\u001b[0m\u001b[37m\u001b[0m \u001b[1m316s\u001b[0m 842ms/step - accuracy: 0.3032 - loss: 2.4274 - val_accuracy: 0.3220 - val_loss: 2.3304 - learning_rate: 0.0010\n",
            "Epoch 2/30\n",
            "\u001b[1m348/348\u001b[0m \u001b[32m━━━━━━━━━━━━━━━━━━━━\u001b[0m\u001b[37m\u001b[0m \u001b[1m273s\u001b[0m 738ms/step - accuracy: 0.4355 - loss: 1.8413 - val_accuracy: 0.3079 - val_loss: 2.2713 - learning_rate: 0.0010\n",
            "Epoch 3/30\n",
            "\u001b[1m348/348\u001b[0m \u001b[32m━━━━━━━━━━━━━━━━━━━━\u001b[0m\u001b[37m\u001b[0m \u001b[1m258s\u001b[0m 726ms/step - accuracy: 0.4806 - loss: 1.6906 - val_accuracy: 0.3433 - val_loss: 2.3512 - learning_rate: 0.0010\n",
            "Epoch 4/30\n",
            "\u001b[1m348/348\u001b[0m \u001b[32m━━━━━━━━━━━━━━━━━━━━\u001b[0m\u001b[37m\u001b[0m \u001b[1m263s\u001b[0m 734ms/step - accuracy: 0.4971 - loss: 1.5977 - val_accuracy: 0.3473 - val_loss: 2.3237 - learning_rate: 0.0010\n",
            "Epoch 5/30\n",
            "\u001b[1m348/348\u001b[0m \u001b[32m━━━━━━━━━━━━━━━━━━━━\u001b[0m\u001b[37m\u001b[0m \u001b[1m257s\u001b[0m 728ms/step - accuracy: 0.5243 - loss: 1.5296 - val_accuracy: 0.3422 - val_loss: 2.4047 - learning_rate: 0.0010\n",
            "Epoch 6/30\n",
            "\u001b[1m348/348\u001b[0m \u001b[32m━━━━━━━━━━━━━━━━━━━━\u001b[0m\u001b[37m\u001b[0m \u001b[1m262s\u001b[0m 725ms/step - accuracy: 0.5555 - loss: 1.4125 - val_accuracy: 0.3545 - val_loss: 2.3131 - learning_rate: 0.0010\n",
            "Epoch 7/30\n",
            "\u001b[1m348/348\u001b[0m \u001b[32m━━━━━━━━━━━━━━━━━━━━\u001b[0m\u001b[37m\u001b[0m \u001b[1m0s\u001b[0m 568ms/step - accuracy: 0.5704 - loss: 1.3771\n",
            "Epoch 7: ReduceLROnPlateau reducing learning rate to 0.0007500000356230885.\n",
            "\u001b[1m348/348\u001b[0m \u001b[32m━━━━━━━━━━━━━━━━━━━━\u001b[0m\u001b[37m\u001b[0m \u001b[1m283s\u001b[0m 804ms/step - accuracy: 0.5704 - loss: 1.3772 - val_accuracy: 0.3477 - val_loss: 2.3994 - learning_rate: 0.0010\n",
            "Epoch 8/30\n",
            "\u001b[1m348/348\u001b[0m \u001b[32m━━━━━━━━━━━━━━━━━━━━\u001b[0m\u001b[37m\u001b[0m \u001b[1m294s\u001b[0m 721ms/step - accuracy: 0.5898 - loss: 1.2898 - val_accuracy: 0.3534 - val_loss: 2.3210 - learning_rate: 7.5000e-04\n",
            "Epoch 9/30\n",
            "\u001b[1m348/348\u001b[0m \u001b[32m━━━━━━━━━━━━━━━━━━━━\u001b[0m\u001b[37m\u001b[0m \u001b[1m255s\u001b[0m 723ms/step - accuracy: 0.6164 - loss: 1.1974 - val_accuracy: 0.3563 - val_loss: 2.3756 - learning_rate: 7.5000e-04\n",
            "Epoch 10/30\n",
            "\u001b[1m348/348\u001b[0m \u001b[32m━━━━━━━━━━━━━━━━━━━━\u001b[0m\u001b[37m\u001b[0m \u001b[1m255s\u001b[0m 722ms/step - accuracy: 0.6275 - loss: 1.1635 - val_accuracy: 0.3690 - val_loss: 2.3968 - learning_rate: 7.5000e-04\n",
            "Epoch 11/30\n",
            "\u001b[1m348/348\u001b[0m \u001b[32m━━━━━━━━━━━━━━━━━━━━\u001b[0m\u001b[37m\u001b[0m \u001b[1m262s\u001b[0m 722ms/step - accuracy: 0.6404 - loss: 1.1237 - val_accuracy: 0.3473 - val_loss: 2.4761 - learning_rate: 7.5000e-04\n",
            "Epoch 12/30\n",
            "\u001b[1m348/348\u001b[0m \u001b[32m━━━━━━━━━━━━━━━━━━━━\u001b[0m\u001b[37m\u001b[0m \u001b[1m0s\u001b[0m 571ms/step - accuracy: 0.6413 - loss: 1.1049\n",
            "Epoch 12: ReduceLROnPlateau reducing learning rate to 0.0005625000048894435.\n",
            "\u001b[1m348/348\u001b[0m \u001b[32m━━━━━━━━━━━━━━━━━━━━\u001b[0m\u001b[37m\u001b[0m \u001b[1m284s\u001b[0m 807ms/step - accuracy: 0.6413 - loss: 1.1049 - val_accuracy: 0.3686 - val_loss: 2.4543 - learning_rate: 7.5000e-04\n",
            "Epoch 13/30\n",
            "\u001b[1m348/348\u001b[0m \u001b[32m━━━━━━━━━━━━━━━━━━━━\u001b[0m\u001b[37m\u001b[0m \u001b[1m254s\u001b[0m 721ms/step - accuracy: 0.6734 - loss: 1.0190 - val_accuracy: 0.3567 - val_loss: 2.5147 - learning_rate: 5.6250e-04\n",
            "Epoch 14/30\n",
            "\u001b[1m348/348\u001b[0m \u001b[32m━━━━━━━━━━━━━━━━━━━━\u001b[0m\u001b[37m\u001b[0m \u001b[1m254s\u001b[0m 721ms/step - accuracy: 0.6823 - loss: 0.9942 - val_accuracy: 0.3581 - val_loss: 2.5075 - learning_rate: 5.6250e-04\n",
            "Epoch 15/30\n",
            "\u001b[1m348/348\u001b[0m \u001b[32m━━━━━━━━━━━━━━━━━━━━\u001b[0m\u001b[37m\u001b[0m \u001b[1m291s\u001b[0m 803ms/step - accuracy: 0.6981 - loss: 0.9561 - val_accuracy: 0.3477 - val_loss: 2.5775 - learning_rate: 5.6250e-04\n",
            "Epoch 16/30\n",
            "\u001b[1m348/348\u001b[0m \u001b[32m━━━━━━━━━━━━━━━━━━━━\u001b[0m\u001b[37m\u001b[0m \u001b[1m255s\u001b[0m 722ms/step - accuracy: 0.6874 - loss: 0.9671 - val_accuracy: 0.3610 - val_loss: 2.5863 - learning_rate: 5.6250e-04\n",
            "Epoch 17/30\n",
            "\u001b[1m348/348\u001b[0m \u001b[32m━━━━━━━━━━━━━━━━━━━━\u001b[0m\u001b[37m\u001b[0m \u001b[1m0s\u001b[0m 567ms/step - accuracy: 0.7036 - loss: 0.9220\n",
            "Epoch 17: ReduceLROnPlateau reducing learning rate to 0.0004218749818392098.\n",
            "\u001b[1m348/348\u001b[0m \u001b[32m━━━━━━━━━━━━━━━━━━━━\u001b[0m\u001b[37m\u001b[0m \u001b[1m264s\u001b[0m 725ms/step - accuracy: 0.7036 - loss: 0.9221 - val_accuracy: 0.3560 - val_loss: 2.6016 - learning_rate: 5.6250e-04\n",
            "Epoch 18/30\n",
            "\u001b[1m348/348\u001b[0m \u001b[32m━━━━━━━━━━━━━━━━━━━━\u001b[0m\u001b[37m\u001b[0m \u001b[1m268s\u001b[0m 746ms/step - accuracy: 0.7211 - loss: 0.8686 - val_accuracy: 0.3628 - val_loss: 2.6351 - learning_rate: 4.2187e-04\n",
            "Epoch 19/30\n",
            "\u001b[1m348/348\u001b[0m \u001b[32m━━━━━━━━━━━━━━━━━━━━\u001b[0m\u001b[37m\u001b[0m \u001b[1m259s\u001b[0m 734ms/step - accuracy: 0.7450 - loss: 0.8270 - val_accuracy: 0.3588 - val_loss: 2.6039 - learning_rate: 4.2187e-04\n",
            "Epoch 20/30\n",
            "\u001b[1m348/348\u001b[0m \u001b[32m━━━━━━━━━━━━━━━━━━━━\u001b[0m\u001b[37m\u001b[0m \u001b[1m260s\u001b[0m 735ms/step - accuracy: 0.7502 - loss: 0.7938 - val_accuracy: 0.3668 - val_loss: 2.6835 - learning_rate: 4.2187e-04\n",
            "Epoch 21/30\n",
            "\u001b[1m348/348\u001b[0m \u001b[32m━━━━━━━━━━━━━━━━━━━━\u001b[0m\u001b[37m\u001b[0m \u001b[1m258s\u001b[0m 731ms/step - accuracy: 0.7458 - loss: 0.7910 - val_accuracy: 0.3585 - val_loss: 2.7085 - learning_rate: 4.2187e-04\n",
            "Epoch 22/30\n",
            "\u001b[1m348/348\u001b[0m \u001b[32m━━━━━━━━━━━━━━━━━━━━\u001b[0m\u001b[37m\u001b[0m \u001b[1m0s\u001b[0m 577ms/step - accuracy: 0.7457 - loss: 0.7952\n",
            "Epoch 22: ReduceLROnPlateau reducing learning rate to 0.00031640623637940735.\n",
            "\u001b[1m348/348\u001b[0m \u001b[32m━━━━━━━━━━━━━━━━━━━━\u001b[0m\u001b[37m\u001b[0m \u001b[1m265s\u001b[0m 736ms/step - accuracy: 0.7457 - loss: 0.7952 - val_accuracy: 0.3643 - val_loss: 2.7226 - learning_rate: 4.2187e-04\n",
            "Epoch 23/30\n",
            "\u001b[1m348/348\u001b[0m \u001b[32m━━━━━━━━━━━━━━━━━━━━\u001b[0m\u001b[37m\u001b[0m \u001b[1m286s\u001b[0m 814ms/step - accuracy: 0.7677 - loss: 0.7206 - val_accuracy: 0.3697 - val_loss: 2.6466 - learning_rate: 3.1641e-04\n",
            "Epoch 24/30\n",
            "\u001b[1m348/348\u001b[0m \u001b[32m━━━━━━━━━━━━━━━━━━━━\u001b[0m\u001b[37m\u001b[0m \u001b[1m293s\u001b[0m 731ms/step - accuracy: 0.7747 - loss: 0.7239 - val_accuracy: 0.3621 - val_loss: 2.6268 - learning_rate: 3.1641e-04\n",
            "Epoch 25/30\n",
            "\u001b[1m348/348\u001b[0m \u001b[32m━━━━━━━━━━━━━━━━━━━━\u001b[0m\u001b[37m\u001b[0m \u001b[1m264s\u001b[0m 734ms/step - accuracy: 0.7629 - loss: 0.7315 - val_accuracy: 0.3729 - val_loss: 2.6897 - learning_rate: 3.1641e-04\n",
            "Epoch 26/30\n",
            "\u001b[1m348/348\u001b[0m \u001b[32m━━━━━━━━━━━━━━━━━━━━\u001b[0m\u001b[37m\u001b[0m \u001b[1m261s\u001b[0m 737ms/step - accuracy: 0.7848 - loss: 0.6898 - val_accuracy: 0.3635 - val_loss: 2.7311 - learning_rate: 3.1641e-04\n",
            "Epoch 27/30\n",
            "\u001b[1m348/348\u001b[0m \u001b[32m━━━━━━━━━━━━━━━━━━━━\u001b[0m\u001b[37m\u001b[0m \u001b[1m0s\u001b[0m 576ms/step - accuracy: 0.7906 - loss: 0.6889\n",
            "Epoch 27: ReduceLROnPlateau reducing learning rate to 0.00023730468819849193.\n",
            "\u001b[1m348/348\u001b[0m \u001b[32m━━━━━━━━━━━━━━━━━━━━\u001b[0m\u001b[37m\u001b[0m \u001b[1m261s\u001b[0m 734ms/step - accuracy: 0.7906 - loss: 0.6890 - val_accuracy: 0.3632 - val_loss: 2.7027 - learning_rate: 3.1641e-04\n",
            "Epoch 28/30\n",
            "\u001b[1m348/348\u001b[0m \u001b[32m━━━━━━━━━━━━━━━━━━━━\u001b[0m\u001b[37m\u001b[0m \u001b[1m259s\u001b[0m 731ms/step - accuracy: 0.8030 - loss: 0.6485 - val_accuracy: 0.3769 - val_loss: 2.7355 - learning_rate: 2.3730e-04\n",
            "Epoch 29/30\n",
            "\u001b[1m348/348\u001b[0m \u001b[32m━━━━━━━━━━━━━━━━━━━━\u001b[0m\u001b[37m\u001b[0m \u001b[1m288s\u001b[0m 810ms/step - accuracy: 0.7965 - loss: 0.6438 - val_accuracy: 0.3711 - val_loss: 2.7992 - learning_rate: 2.3730e-04\n",
            "Epoch 30/30\n",
            "\u001b[1m348/348\u001b[0m \u001b[32m━━━━━━━━━━━━━━━━━━━━\u001b[0m\u001b[37m\u001b[0m \u001b[1m294s\u001b[0m 731ms/step - accuracy: 0.8060 - loss: 0.6311 - val_accuracy: 0.3661 - val_loss: 2.7558 - learning_rate: 2.3730e-04\n"
          ]
        },
        {
          "output_type": "stream",
          "name": "stderr",
          "text": [
            "WARNING:absl:You are saving your model as an HDF5 file via `model.save()` or `keras.saving.save_model(model)`. This file format is considered legacy. We recommend using instead the native Keras format, e.g. `model.save('my_model.keras')` or `keras.saving.save_model(model, 'my_model.keras')`. \n"
          ]
        }
      ]
    },
    {
      "cell_type": "code",
      "source": [
        "import matplotlib.pyplot as plt\n",
        "\n",
        "# Plot for InceptionV3 model\n",
        "plt.figure(figsize=(12, 6))\n",
        "\n",
        "# Plot training and validation accuracy for InceptionV3 model\n",
        "plt.plot(history_inception.history['accuracy'], label='InceptionV3 Model Training Accuracy')\n",
        "plt.plot(history_inception.history['val_accuracy'], label='InceptionV3 Model Validation Accuracy')\n",
        "\n",
        "# Plot configurations\n",
        "plt.title('Training and Validation Accuracy for InceptionV3 Model')\n",
        "plt.xlabel('Epochs')\n",
        "plt.ylabel('Accuracy')\n",
        "plt.legend()\n",
        "plt.grid(True)\n",
        "plt.show()\n"
      ],
      "metadata": {
        "colab": {
          "base_uri": "https://localhost:8080/",
          "height": 564
        },
        "id": "SPpl0tLVYO5F",
        "outputId": "d2bbf102-bba4-4de6-9822-9530a11702e7"
      },
      "execution_count": 11,
      "outputs": [
        {
          "output_type": "display_data",
          "data": {
            "text/plain": [
              "<Figure size 1200x600 with 1 Axes>"
            ],
            "image/png": "[encoded data removed]"
          },
          "metadata": {}
        }
      ]
    },
    {
      "cell_type": "code",
      "source": [
        "\n",
        "# ResNet152V2 model as a sub-model\n",
        "input_tensor_resnet = Input(shape=input_shape, name=\"input_resnet\")\n",
        "base_model_resnet = ResNet152V2(weights='imagenet', include_top=False, input_tensor=input_tensor_resnet)\n",
        "base_model_resnet.trainable = False  # Freezing the layers\n",
        "x_resnet = base_model_resnet.output\n",
        "x_resnet = GlobalAveragePooling2D()(x_resnet)\n",
        "x_resnet = Dense(512, activation='relu')(x_resnet)\n"
      ],
      "metadata": {
        "colab": {
          "base_uri": "https://localhost:8080/"
        },
        "id": "5MhWTh3yLMPa",
        "outputId": "92738f2f-6be7-4353-fa58-a3e20cd7c908"
      },
      "execution_count": 12,
      "outputs": [
        {
          "output_type": "stream",
          "name": "stdout",
          "text": [
            "Downloading data from https://storage.googleapis.com/tensorflow/keras-applications/resnet/resnet152v2_weights_tf_dim_ordering_tf_kernels_notop.h5\n",
            "\u001b[1m234545216/234545216\u001b[0m \u001b[32m━━━━━━━━━━━━━━━━━━━━\u001b[0m\u001b[37m\u001b[0m \u001b[1m2s\u001b[0m 0us/step\n"
          ]
        }
      ]
    },
    {
      "cell_type": "code",
      "source": [
        "# VGG16 model as a sub-model\n",
        "input_tensor_vgg = Input(shape=input_shape, name=\"input_vgg\")\n",
        "base_model_vgg = VGG16(weights='imagenet', include_top=False, input_tensor=input_tensor_vgg)\n",
        "base_model_vgg.trainable = False  # Freezing the layers\n",
        "x_vgg = base_model_vgg.output\n",
        "x_vgg = GlobalAveragePooling2D()(x_vgg)\n",
        "x_vgg = Dense(512, activation='relu')(x_vgg)"
      ],
      "metadata": {
        "id": "TdkWwABkLR7W",
        "colab": {
          "base_uri": "https://localhost:8080/"
        },
        "outputId": "b23531b4-783c-47bc-dff2-785714b0fbbc"
      },
      "execution_count": 13,
      "outputs": [
        {
          "output_type": "stream",
          "name": "stdout",
          "text": [
            "Downloading data from https://storage.googleapis.com/tensorflow/keras-applications/vgg16/vgg16_weights_tf_dim_ordering_tf_kernels_notop.h5\n",
            "\u001b[1m58889256/58889256\u001b[0m \u001b[32m━━━━━━━━━━━━━━━━━━━━\u001b[0m\u001b[37m\u001b[0m \u001b[1m0s\u001b[0m 0us/step\n"
          ]
        }
      ]
    }
  ]
}