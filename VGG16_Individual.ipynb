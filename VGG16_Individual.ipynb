{
  "nbformat": 4,
  "nbformat_minor": 0,
  "metadata": {
    "colab": {
      "provenance": [],
      "gpuType": "T4"
    },
    "kernelspec": {
      "name": "python3",
      "display_name": "Python 3"
    },
    "language_info": {
      "name": "python"
    },
    "accelerator": "GPU"
  },
  "cells": [
    {
      "cell_type": "markdown",
      "source": [
        "**1. Import Libraries**"
      ],
      "metadata": {
        "id": "FNmgx4nteBzW"
      }
    },
    {
      "cell_type": "code",
      "execution_count": 1,
      "metadata": {
        "id": "MypAhF-r9bW5"
      },
      "outputs": [],
      "source": [
        "import tensorflow as tf\n",
        "from tensorflow.keras.applications import VGG16\n",
        "from tensorflow.keras.layers import GlobalAveragePooling2D, Dense, Dropout, Input\n",
        "from tensorflow.keras.models import Model\n",
        "from tensorflow.keras.optimizers import Adam\n",
        "from tensorflow.keras.preprocessing.image import ImageDataGenerator\n",
        "from tensorflow.keras.callbacks import ReduceLROnPlateau, EarlyStopping\n",
        "import os\n",
        "import zipfile\n",
        "import matplotlib.pyplot as plt\n",
        "from google.colab import drive"
      ]
    },
    {
      "cell_type": "markdown",
      "source": [
        "**2. Extract Dataset from Google Drive**"
      ],
      "metadata": {
        "id": "YZvRjCrVeGAr"
      }
    },
    {
      "cell_type": "code",
      "source": [
        "# Import necessary libraries\n",
        "import os\n",
        "import zipfile\n",
        "from google.colab import drive\n",
        "\n",
        "# Mount Google Drive\n",
        "drive.mount('/content/drive')\n",
        "\n",
        "# Define paths to dataset\n",
        "zip_path = '/content/drive/MyDrive/Dataset/SkinDiseases.zip'\n",
        "extract_path = '/content/skin_disease_dataset'\n",
        "\n",
        "# Check if the dataset is already extracted\n",
        "if not os.path.exists(extract_path):\n",
        "    print(\"Extracting dataset...\")\n",
        "    with zipfile.ZipFile(zip_path, 'r') as zip_ref:\n",
        "        zip_ref.extractall(extract_path)\n",
        "    print('Dataset extracted successfully.')\n",
        "else:\n",
        "    print('Dataset already extracted. Skipping extraction.')\n",
        "\n",
        "# Define paths to train and test directories\n",
        "data_dir_train = os.path.join(extract_path, 'SkinDisease/train')\n",
        "data_dir_test = os.path.join(extract_path, 'SkinDisease/test')\n",
        "\n",
        "# Validate the paths\n",
        "assert os.path.exists(data_dir_train), f\"Train directory not found: {data_dir_train}\"\n",
        "assert os.path.exists(data_dir_test), f\"Test directory not found: {data_dir_test}\"\n",
        "print('Train and Test directories are valid.')"
      ],
      "metadata": {
        "colab": {
          "base_uri": "https://localhost:8080/"
        },
        "id": "XrQuM-i991L-",
        "outputId": "7b168574-4a61-48eb-9cba-8b80157ff37f"
      },
      "execution_count": 2,
      "outputs": [
        {
          "output_type": "stream",
          "name": "stdout",
          "text": [
            "Mounted at /content/drive\n",
            "Extracting dataset...\n",
            "Dataset extracted successfully.\n",
            "Train and Test directories are valid.\n"
          ]
        }
      ]
    },
    {
      "cell_type": "code",
      "source": [
        "import os\n",
        "\n",
        "# Check if the dataset is already extracted\n",
        "if not os.path.exists(extract_path):\n",
        "    with zipfile.ZipFile(zip_path, 'r') as zip_ref:\n",
        "        zip_ref.extractall(extract_path)\n",
        "    print('Dataset extracted successfully.')\n",
        "else:\n",
        "    print('Dataset already extracted. Skipping extraction.')"
      ],
      "metadata": {
        "colab": {
          "base_uri": "https://localhost:8080/"
        },
        "id": "uNGp2QLJ6PdU",
        "outputId": "ca93caac-ee4d-41c5-b476-9dae9dd76d23"
      },
      "execution_count": 3,
      "outputs": [
        {
          "output_type": "stream",
          "name": "stdout",
          "text": [
            "Dataset already extracted. Skipping extraction.\n"
          ]
        }
      ]
    },
    {
      "cell_type": "markdown",
      "source": [
        "**3. Data Preprocessing and Augmentation**"
      ],
      "metadata": {
        "id": "Qd2-jUUSeIlI"
      }
    },
    {
      "cell_type": "code",
      "source": [
        "# Data Preprocessing and Augmentation\n",
        "train_datagen = ImageDataGenerator(\n",
        "    rescale=1./255,\n",
        "    zoom_range=0.2,\n",
        "    horizontal_flip=True,\n",
        "    validation_split=0.2  # Split for training and validation\n",
        ")\n",
        "\n",
        "train_generator = train_datagen.flow_from_directory(\n",
        "    data_dir_train,\n",
        "    target_size=(128, 128),\n",
        "    batch_size=64,\n",
        "    class_mode='categorical',\n",
        "    subset='training'\n",
        ")\n",
        "\n",
        "validation_generator = train_datagen.flow_from_directory(\n",
        "    data_dir_train,\n",
        "    target_size=(128, 128),\n",
        "    batch_size=64,\n",
        "    class_mode='categorical',\n",
        "    subset='validation'\n",
        ")"
      ],
      "metadata": {
        "colab": {
          "base_uri": "https://localhost:8080/"
        },
        "id": "KkeNhoJn_oCQ",
        "outputId": "dcf0b171-a473-40ad-d7b3-cea2e18611d7"
      },
      "execution_count": 4,
      "outputs": [
        {
          "output_type": "stream",
          "name": "stdout",
          "text": [
            "Found 11128 images belonging to 22 classes.\n",
            "Found 2770 images belonging to 22 classes.\n"
          ]
        }
      ]
    },
    {
      "cell_type": "markdown",
      "source": [
        "**4. Build VGG16 Model**"
      ],
      "metadata": {
        "id": "bqdreFBMeKL3"
      }
    },
    {
      "cell_type": "code",
      "source": [
        "# Define VGG16 Model\n",
        "input_shape = (128, 128, 3)\n",
        "input_tensor = Input(shape=input_shape, name=\"input_image\")\n",
        "\n",
        "# Use VGG16 as the base model\n",
        "base_model_vgg = VGG16(weights='imagenet', include_top=False, input_tensor=input_tensor)\n",
        "base_model_vgg.trainable = False  # Freeze the layers\n",
        "for layer in base_model_vgg.layers[:-4]:  # Fine-tune last 4 layers\n",
        "    layer.trainable = False\n",
        "\n",
        "# Add custom layers on top of VGG16\n",
        "x_vgg = base_model_vgg.output\n",
        "x_vgg = GlobalAveragePooling2D()(x_vgg)\n",
        "x_vgg = Dense(512, activation='relu')(x_vgg)\n",
        "output_vgg = Dense(train_generator.num_classes, activation='softmax')(x_vgg)\n",
        "\n",
        "# Define the model\n",
        "model_vgg = Model(inputs=input_tensor, outputs=output_vgg)\n",
        "\n",
        "# Compile the model\n",
        "model_vgg.compile(optimizer=Adam(learning_rate=0.001),\n",
        "                  loss='categorical_crossentropy',\n",
        "                  metrics=['accuracy'])"
      ],
      "metadata": {
        "colab": {
          "base_uri": "https://localhost:8080/"
        },
        "id": "iVsKMaszA5iC",
        "outputId": "94f057fe-bd68-428f-ce9e-0c1dfb352080"
      },
      "execution_count": 5,
      "outputs": [
        {
          "output_type": "stream",
          "name": "stdout",
          "text": [
            "Downloading data from https://storage.googleapis.com/tensorflow/keras-applications/vgg16/vgg16_weights_tf_dim_ordering_tf_kernels_notop.h5\n",
            "\u001b[1m58889256/58889256\u001b[0m \u001b[32m━━━━━━━━━━━━━━━━━━━━\u001b[0m\u001b[37m\u001b[0m \u001b[1m0s\u001b[0m 0us/step\n"
          ]
        }
      ]
    },
    {
      "cell_type": "markdown",
      "source": [
        "**5. Callbacks for Training**"
      ],
      "metadata": {
        "id": "M5F5fnVzePZv"
      }
    },
    {
      "cell_type": "code",
      "source": [
        "# Callbacks to reduce learning rate and stop early if overfitting occurs\n",
        "reduce_lr = ReduceLROnPlateau(monitor='val_loss', factor=0.75, patience=3, min_lr=1e-5, verbose=1)\n",
        "# early_stopping = EarlyStopping(monitor='val_loss', patience=10, restore_best_weights=True, verbose=1)"
      ],
      "metadata": {
        "id": "L9GjjiIJA8hY"
      },
      "execution_count": 6,
      "outputs": []
    },
    {
      "cell_type": "markdown",
      "source": [
        "**6. Train the Model**"
      ],
      "metadata": {
        "id": "kiDgbiwBeTVN"
      }
    },
    {
      "cell_type": "code",
      "source": [
        "# Train the model\n",
        "history_vgg = model_vgg.fit(\n",
        "    train_generator,\n",
        "    validation_data=validation_generator,\n",
        "    epochs=30,\n",
        "    callbacks=[reduce_lr]\n",
        ")\n",
        "\n",
        "# Save the trained model with the correct file extension\n",
        "model_vgg.save('/content/drive/MyDrive/Final_VGG16_Individual.h5')"
      ],
      "metadata": {
        "colab": {
          "base_uri": "https://localhost:8080/"
        },
        "id": "Vs42WKBtA_wA",
        "outputId": "c5d71e82-e5c5-42a7-cffc-2f6eb3344f5e"
      },
      "execution_count": 7,
      "outputs": [
        {
          "output_type": "stream",
          "name": "stdout",
          "text": [
            "Epoch 1/30\n"
          ]
        },
        {
          "output_type": "stream",
          "name": "stderr",
          "text": [
            "/usr/local/lib/python3.10/dist-packages/keras/src/trainers/data_adapters/py_dataset_adapter.py:122: UserWarning: Your `PyDataset` class should call `super().__init__(**kwargs)` in its constructor. `**kwargs` can include `workers`, `use_multiprocessing`, `max_queue_size`. Do not pass these arguments to `fit()`, as they will be ignored.\n",
            "  self._warn_if_super_not_called()\n"
          ]
        },
        {
          "output_type": "stream",
          "name": "stdout",
          "text": [
            "\u001b[1m174/174\u001b[0m \u001b[32m━━━━━━━━━━━━━━━━━━━━\u001b[0m\u001b[37m\u001b[0m \u001b[1m150s\u001b[0m 771ms/step - accuracy: 0.1959 - loss: 2.7278 - val_accuracy: 0.2567 - val_loss: 2.5188 - learning_rate: 0.0010\n",
            "Epoch 2/30\n",
            "\u001b[1m174/174\u001b[0m \u001b[32m━━━━━━━━━━━━━━━━━━━━\u001b[0m\u001b[37m\u001b[0m \u001b[1m174s\u001b[0m 673ms/step - accuracy: 0.2930 - loss: 2.3656 - val_accuracy: 0.2780 - val_loss: 2.4467 - learning_rate: 0.0010\n",
            "Epoch 3/30\n",
            "\u001b[1m174/174\u001b[0m \u001b[32m━━━━━━━━━━━━━━━━━━━━\u001b[0m\u001b[37m\u001b[0m \u001b[1m120s\u001b[0m 670ms/step - accuracy: 0.3291 - loss: 2.2461 - val_accuracy: 0.2751 - val_loss: 2.4539 - learning_rate: 0.0010\n",
            "Epoch 4/30\n",
            "\u001b[1m174/174\u001b[0m \u001b[32m━━━━━━━━━━━━━━━━━━━━\u001b[0m\u001b[37m\u001b[0m \u001b[1m119s\u001b[0m 661ms/step - accuracy: 0.3482 - loss: 2.1618 - val_accuracy: 0.2906 - val_loss: 2.4110 - learning_rate: 0.0010\n",
            "Epoch 5/30\n",
            "\u001b[1m174/174\u001b[0m \u001b[32m━━━━━━━━━━━━━━━━━━━━\u001b[0m\u001b[37m\u001b[0m \u001b[1m118s\u001b[0m 663ms/step - accuracy: 0.3662 - loss: 2.0951 - val_accuracy: 0.2733 - val_loss: 2.4173 - learning_rate: 0.0010\n",
            "Epoch 6/30\n",
            "\u001b[1m174/174\u001b[0m \u001b[32m━━━━━━━━━━━━━━━━━━━━\u001b[0m\u001b[37m\u001b[0m \u001b[1m143s\u001b[0m 661ms/step - accuracy: 0.3787 - loss: 2.0559 - val_accuracy: 0.2780 - val_loss: 2.4321 - learning_rate: 0.0010\n",
            "Epoch 7/30\n",
            "\u001b[1m174/174\u001b[0m \u001b[32m━━━━━━━━━━━━━━━━━━━━\u001b[0m\u001b[37m\u001b[0m \u001b[1m0s\u001b[0m 499ms/step - accuracy: 0.3831 - loss: 2.0163\n",
            "Epoch 7: ReduceLROnPlateau reducing learning rate to 0.0007500000356230885.\n",
            "\u001b[1m174/174\u001b[0m \u001b[32m━━━━━━━━━━━━━━━━━━━━\u001b[0m\u001b[37m\u001b[0m \u001b[1m140s\u001b[0m 657ms/step - accuracy: 0.3831 - loss: 2.0163 - val_accuracy: 0.2823 - val_loss: 2.4242 - learning_rate: 0.0010\n",
            "Epoch 8/30\n",
            "\u001b[1m174/174\u001b[0m \u001b[32m━━━━━━━━━━━━━━━━━━━━\u001b[0m\u001b[37m\u001b[0m \u001b[1m145s\u001b[0m 670ms/step - accuracy: 0.3957 - loss: 1.9736 - val_accuracy: 0.2989 - val_loss: 2.3739 - learning_rate: 7.5000e-04\n",
            "Epoch 9/30\n",
            "\u001b[1m174/174\u001b[0m \u001b[32m━━━━━━━━━━━━━━━━━━━━\u001b[0m\u001b[37m\u001b[0m \u001b[1m118s\u001b[0m 659ms/step - accuracy: 0.4074 - loss: 1.9572 - val_accuracy: 0.2949 - val_loss: 2.4014 - learning_rate: 7.5000e-04\n",
            "Epoch 10/30\n",
            "\u001b[1m174/174\u001b[0m \u001b[32m━━━━━━━━━━━━━━━━━━━━\u001b[0m\u001b[37m\u001b[0m \u001b[1m119s\u001b[0m 662ms/step - accuracy: 0.4180 - loss: 1.9191 - val_accuracy: 0.3029 - val_loss: 2.4019 - learning_rate: 7.5000e-04\n",
            "Epoch 11/30\n",
            "\u001b[1m174/174\u001b[0m \u001b[32m━━━━━━━━━━━━━━━━━━━━\u001b[0m\u001b[37m\u001b[0m \u001b[1m0s\u001b[0m 503ms/step - accuracy: 0.4195 - loss: 1.9342\n",
            "Epoch 11: ReduceLROnPlateau reducing learning rate to 0.0005625000048894435.\n",
            "\u001b[1m174/174\u001b[0m \u001b[32m━━━━━━━━━━━━━━━━━━━━\u001b[0m\u001b[37m\u001b[0m \u001b[1m141s\u001b[0m 660ms/step - accuracy: 0.4196 - loss: 1.9340 - val_accuracy: 0.2892 - val_loss: 2.4180 - learning_rate: 7.5000e-04\n",
            "Epoch 12/30\n",
            "\u001b[1m174/174\u001b[0m \u001b[32m━━━━━━━━━━━━━━━━━━━━\u001b[0m\u001b[37m\u001b[0m \u001b[1m141s\u001b[0m 654ms/step - accuracy: 0.4218 - loss: 1.8903 - val_accuracy: 0.3054 - val_loss: 2.3852 - learning_rate: 5.6250e-04\n",
            "Epoch 13/30\n",
            "\u001b[1m174/174\u001b[0m \u001b[32m━━━━━━━━━━━━━━━━━━━━\u001b[0m\u001b[37m\u001b[0m \u001b[1m118s\u001b[0m 657ms/step - accuracy: 0.4378 - loss: 1.8502 - val_accuracy: 0.3130 - val_loss: 2.3805 - learning_rate: 5.6250e-04\n",
            "Epoch 14/30\n",
            "\u001b[1m174/174\u001b[0m \u001b[32m━━━━━━━━━━━━━━━━━━━━\u001b[0m\u001b[37m\u001b[0m \u001b[1m0s\u001b[0m 502ms/step - accuracy: 0.4364 - loss: 1.8331\n",
            "Epoch 14: ReduceLROnPlateau reducing learning rate to 0.0004218749818392098.\n",
            "\u001b[1m174/174\u001b[0m \u001b[32m━━━━━━━━━━━━━━━━━━━━\u001b[0m\u001b[37m\u001b[0m \u001b[1m141s\u001b[0m 658ms/step - accuracy: 0.4364 - loss: 1.8332 - val_accuracy: 0.3043 - val_loss: 2.3819 - learning_rate: 5.6250e-04\n",
            "Epoch 15/30\n",
            "\u001b[1m174/174\u001b[0m \u001b[32m━━━━━━━━━━━━━━━━━━━━\u001b[0m\u001b[37m\u001b[0m \u001b[1m143s\u001b[0m 659ms/step - accuracy: 0.4496 - loss: 1.8064 - val_accuracy: 0.3047 - val_loss: 2.3947 - learning_rate: 4.2187e-04\n",
            "Epoch 16/30\n",
            "\u001b[1m174/174\u001b[0m \u001b[32m━━━━━━━━━━━━━━━━━━━━\u001b[0m\u001b[37m\u001b[0m \u001b[1m140s\u001b[0m 655ms/step - accuracy: 0.4609 - loss: 1.7799 - val_accuracy: 0.2986 - val_loss: 2.3831 - learning_rate: 4.2187e-04\n",
            "Epoch 17/30\n",
            "\u001b[1m174/174\u001b[0m \u001b[32m━━━━━━━━━━━━━━━━━━━━\u001b[0m\u001b[37m\u001b[0m \u001b[1m0s\u001b[0m 499ms/step - accuracy: 0.4558 - loss: 1.7830\n",
            "Epoch 17: ReduceLROnPlateau reducing learning rate to 0.00031640623637940735.\n",
            "\u001b[1m174/174\u001b[0m \u001b[32m━━━━━━━━━━━━━━━━━━━━\u001b[0m\u001b[37m\u001b[0m \u001b[1m143s\u001b[0m 656ms/step - accuracy: 0.4558 - loss: 1.7831 - val_accuracy: 0.2949 - val_loss: 2.4283 - learning_rate: 4.2187e-04\n",
            "Epoch 18/30\n",
            "\u001b[1m174/174\u001b[0m \u001b[32m━━━━━━━━━━━━━━━━━━━━\u001b[0m\u001b[37m\u001b[0m \u001b[1m141s\u001b[0m 656ms/step - accuracy: 0.4514 - loss: 1.7797 - val_accuracy: 0.2996 - val_loss: 2.4092 - learning_rate: 3.1641e-04\n",
            "Epoch 19/30\n",
            "\u001b[1m174/174\u001b[0m \u001b[32m━━━━━━━━━━━━━━━━━━━━\u001b[0m\u001b[37m\u001b[0m \u001b[1m119s\u001b[0m 662ms/step - accuracy: 0.4676 - loss: 1.7552 - val_accuracy: 0.3141 - val_loss: 2.3731 - learning_rate: 3.1641e-04\n",
            "Epoch 20/30\n",
            "\u001b[1m174/174\u001b[0m \u001b[32m━━━━━━━━━━━━━━━━━━━━\u001b[0m\u001b[37m\u001b[0m \u001b[1m140s\u001b[0m 656ms/step - accuracy: 0.4647 - loss: 1.7721 - val_accuracy: 0.3007 - val_loss: 2.4142 - learning_rate: 3.1641e-04\n",
            "Epoch 21/30\n",
            "\u001b[1m174/174\u001b[0m \u001b[32m━━━━━━━━━━━━━━━━━━━━\u001b[0m\u001b[37m\u001b[0m \u001b[1m131s\u001b[0m 738ms/step - accuracy: 0.4605 - loss: 1.7555 - val_accuracy: 0.3162 - val_loss: 2.3972 - learning_rate: 3.1641e-04\n",
            "Epoch 22/30\n",
            "\u001b[1m174/174\u001b[0m \u001b[32m━━━━━━━━━━━━━━━━━━━━\u001b[0m\u001b[37m\u001b[0m \u001b[1m0s\u001b[0m 506ms/step - accuracy: 0.4679 - loss: 1.7426\n",
            "Epoch 22: ReduceLROnPlateau reducing learning rate to 0.00023730468819849193.\n",
            "\u001b[1m174/174\u001b[0m \u001b[32m━━━━━━━━━━━━━━━━━━━━\u001b[0m\u001b[37m\u001b[0m \u001b[1m119s\u001b[0m 664ms/step - accuracy: 0.4679 - loss: 1.7426 - val_accuracy: 0.2986 - val_loss: 2.4014 - learning_rate: 3.1641e-04\n",
            "Epoch 23/30\n",
            "\u001b[1m174/174\u001b[0m \u001b[32m━━━━━━━━━━━━━━━━━━━━\u001b[0m\u001b[37m\u001b[0m \u001b[1m119s\u001b[0m 667ms/step - accuracy: 0.4743 - loss: 1.7299 - val_accuracy: 0.3188 - val_loss: 2.3838 - learning_rate: 2.3730e-04\n",
            "Epoch 24/30\n",
            "\u001b[1m174/174\u001b[0m \u001b[32m━━━━━━━━━━━━━━━━━━━━\u001b[0m\u001b[37m\u001b[0m \u001b[1m118s\u001b[0m 660ms/step - accuracy: 0.4667 - loss: 1.7353 - val_accuracy: 0.3141 - val_loss: 2.3784 - learning_rate: 2.3730e-04\n",
            "Epoch 25/30\n",
            "\u001b[1m174/174\u001b[0m \u001b[32m━━━━━━━━━━━━━━━━━━━━\u001b[0m\u001b[37m\u001b[0m \u001b[1m0s\u001b[0m 506ms/step - accuracy: 0.4678 - loss: 1.7240\n",
            "Epoch 25: ReduceLROnPlateau reducing learning rate to 0.00017797851614886895.\n",
            "\u001b[1m174/174\u001b[0m \u001b[32m━━━━━━━━━━━━━━━━━━━━\u001b[0m\u001b[37m\u001b[0m \u001b[1m132s\u001b[0m 743ms/step - accuracy: 0.4678 - loss: 1.7240 - val_accuracy: 0.3011 - val_loss: 2.3961 - learning_rate: 2.3730e-04\n",
            "Epoch 26/30\n",
            "\u001b[1m174/174\u001b[0m \u001b[32m━━━━━━━━━━━━━━━━━━━━\u001b[0m\u001b[37m\u001b[0m \u001b[1m129s\u001b[0m 661ms/step - accuracy: 0.4790 - loss: 1.7187 - val_accuracy: 0.3083 - val_loss: 2.3979 - learning_rate: 1.7798e-04\n",
            "Epoch 27/30\n",
            "\u001b[1m174/174\u001b[0m \u001b[32m━━━━━━━━━━━━━━━━━━━━\u001b[0m\u001b[37m\u001b[0m \u001b[1m118s\u001b[0m 660ms/step - accuracy: 0.4844 - loss: 1.7124 - val_accuracy: 0.3188 - val_loss: 2.3892 - learning_rate: 1.7798e-04\n",
            "Epoch 28/30\n",
            "\u001b[1m174/174\u001b[0m \u001b[32m━━━━━━━━━━━━━━━━━━━━\u001b[0m\u001b[37m\u001b[0m \u001b[1m0s\u001b[0m 510ms/step - accuracy: 0.4893 - loss: 1.6736\n",
            "Epoch 28: ReduceLROnPlateau reducing learning rate to 0.0001334838816546835.\n",
            "\u001b[1m174/174\u001b[0m \u001b[32m━━━━━━━━━━━━━━━━━━━━\u001b[0m\u001b[37m\u001b[0m \u001b[1m134s\u001b[0m 747ms/step - accuracy: 0.4892 - loss: 1.6738 - val_accuracy: 0.3069 - val_loss: 2.4265 - learning_rate: 1.7798e-04\n",
            "Epoch 29/30\n",
            "\u001b[1m174/174\u001b[0m \u001b[32m━━━━━━━━━━━━━━━━━━━━\u001b[0m\u001b[37m\u001b[0m \u001b[1m127s\u001b[0m 670ms/step - accuracy: 0.4911 - loss: 1.6929 - val_accuracy: 0.3191 - val_loss: 2.3828 - learning_rate: 1.3348e-04\n",
            "Epoch 30/30\n",
            "\u001b[1m174/174\u001b[0m \u001b[32m━━━━━━━━━━━━━━━━━━━━\u001b[0m\u001b[37m\u001b[0m \u001b[1m143s\u001b[0m 675ms/step - accuracy: 0.4788 - loss: 1.6998 - val_accuracy: 0.3148 - val_loss: 2.3949 - learning_rate: 1.3348e-04\n"
          ]
        },
        {
          "output_type": "stream",
          "name": "stderr",
          "text": [
            "WARNING:absl:You are saving your model as an HDF5 file via `model.save()` or `keras.saving.save_model(model)`. This file format is considered legacy. We recommend using instead the native Keras format, e.g. `model.save('my_model.keras')` or `keras.saving.save_model(model, 'my_model.keras')`. \n"
          ]
        }
      ]
    },
    {
      "cell_type": "code",
      "source": [
        "# Visualizing Training and Validation Accuracy\n",
        "plt.figure(figsize=(12, 6))\n",
        "plt.plot(history_vgg.history['accuracy'], label='Training Accuracy')\n",
        "plt.plot(history_vgg.history['val_accuracy'], label='Validation Accuracy')\n",
        "\n",
        "plt.title('Training and Validation Accuracy for VGG16 Model')\n",
        "plt.xlabel('Epochs')\n",
        "plt.ylabel('Accuracy')\n",
        "plt.legend()\n",
        "plt.grid(True)\n",
        "plt.show()\n"
      ],
      "metadata": {
        "id": "_UbxU0OFQfBY",
        "colab": {
          "base_uri": "https://localhost:8080/",
          "height": 564
        },
        "outputId": "00bc15c9-6dca-4df4-cc02-36d7abc43d32"
      },
      "execution_count": 8,
      "outputs": [
        {
          "output_type": "display_data",
          "data": {
            "text/plain": [
              "<Figure size 1200x600 with 1 Axes>"
            ],
            "image/png": "[encoded data removed]"
          },
          "metadata": {}
        }
      ]
    },
    {
      "cell_type": "code",
      "source": [
        "# Data Preprocessing for Test Set\n",
        "test_datagen = ImageDataGenerator(rescale=1./255)\n",
        "\n",
        "test_generator = test_datagen.flow_from_directory(\n",
        "    data_dir_test,\n",
        "    target_size=(256, 256),\n",
        "    batch_size=32,\n",
        "    class_mode='categorical',\n",
        "    shuffle=False  # Ensure no shuffling for consistent evaluation\n",
        ")\n",
        "\n",
        "# Evaluate the model on the test set\n",
        "test_loss, test_accuracy = model_vgg.evaluate(test_generator)\n",
        "print(f\"Final Test Accuracy: {test_accuracy * 100:.2f}%\")\n"
      ],
      "metadata": {
        "id": "3QCdzp5iPPxL",
        "colab": {
          "base_uri": "https://localhost:8080/"
        },
        "outputId": "29e9e837-a80a-485e-ad7c-03841b708c0a"
      },
      "execution_count": 9,
      "outputs": [
        {
          "output_type": "stream",
          "name": "stdout",
          "text": [
            "Found 1546 images belonging to 22 classes.\n",
            "\u001b[1m49/49\u001b[0m \u001b[32m━━━━━━━━━━━━━━━━━━━━\u001b[0m\u001b[37m\u001b[0m \u001b[1m42s\u001b[0m 459ms/step - accuracy: 0.3304 - loss: 2.2613\n",
            "Final Test Accuracy: 32.08%\n"
          ]
        }
      ]
    }
  ]
}